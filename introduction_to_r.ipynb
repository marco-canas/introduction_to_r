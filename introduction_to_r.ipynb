{
 "cells": [
  {
   "cell_type": "markdown",
   "metadata": {},
   "source": []
  },
  {
   "cell_type": "markdown",
   "metadata": {},
   "source": []
  },
  {
   "cell_type": "markdown",
   "metadata": {},
   "source": [
    "# [Introducción a R para ciencia de datos](https://es.r4ds.hadley.nz/01-intro.html)\n",
    "\n"
   ]
  },
  {
   "cell_type": "markdown",
   "metadata": {},
   "source": [
    "## 1.1 Lo que aprenderás\n",
    "\n",
    "La ciencia de datos es un campo muy amplio y no hay manera de que puedas dominarlo leyendo un solo libro. El objetivo de este, en particular, es entregarte una base sólida acerca de las herramientas más importantes. Nuestro modelo sobre cuáles son las herramientas necesarias para un proyecto típico de ciencia de datos se ve así:"
   ]
  },
  {
   "cell_type": "markdown",
   "metadata": {},
   "source": [
    "<img src = 'https://es.r4ds.hadley.nz/diagrams_w_text_as_path/es/data-science.svg'>"
   ]
  },
  {
   "cell_type": "markdown",
   "metadata": {},
   "source": [
    "Primero, debes importar tus datos hacia R. Típicamente, esto implica tomar datos que están guardados en un archivo, base de datos o API y cargarlos como data frame en R. Si no puedes llevar tus datos a R, no puedes hacer ciencia de datos con él.\n",
    "\n",
    "Una vez que has importado los datos, es una buena idea ordenarlos. Ordenar los datos significa guardarlos de una manera consistente que haga coincidir la semántica del set de datos con la manera en que está guardado. En definitiva, cuando tus datos están ordenados, cada columna es una variable y cada fila una observación. Tener datos ordenados es importante porque si su estructura es consistente, puedes enfocar tus esfuerzos en las preguntas sobre los datos y no en luchar para que estos tengan la forma necesaria para diferentes funciones.\n",
    "\n",
    "Cuando tus datos están ordenados, un primer paso suele ser transformarlos. La transformación implica reducir las observaciones a aquellas que sean de interés (como todas las personas de una ciudad o todos los datos del último año), crear nuevas variables que sean funciones de variables ya existentes (como calcular la rapidez a partir de la velocidad y el tiempo) y calcular una serie de estadísticos de resumen (como recuentos y medias). Juntos, a ordenar y transformar, se les llama manejar o domar los datos, porque hacer que estos tengan la forma con la que es natural trabajarlos, suele sentirse como una lucha.\n",
    "\n",
    "Una vez que tienes los datos ordenados con las variables que necesitas, hay dos principales fuentes generadoras de conocimiento: la visualización y el modelado. Ambas tienen fortalezas y debilidades complementarias, por lo que cualquier análisis real iterará entre ellas varias veces.\n",
    "\n",
    "La visualización es una actividad humana fundamental. Una buena visualización te mostrará cosas que no esperabas o hará surgir nuevas preguntas acerca de los datos. También puede darte pistas acerca de si estás haciendo las preguntas equivocadas o si necesitas recolectar datos diferentes. Las visualizaciones pueden sorprenderte, pero no escalan particularmente bien, ya que requieren ser interpretadas por una persona.\n",
    "\n",
    "Los modelos son herramientas complementarias a la visualización. Una vez que tus preguntas son lo suficientemente precisas, puedes utilizar un modelo para responderlas. Los modelos son herramientas matemáticas o computacionales, por lo que generalmente escalan bien. Incluso cuando no lo hacen, resulta más económico comprar más computadores que comprar más cerebros. Sin embargo, cada modelo tiene supuestos y, debido a su propia naturaleza, un modelo no puede cuestionar sus propios supuestos. Esto significa que un modelo, por definición, no puede sorprenderte.\n",
    "\n",
    "El último paso de la ciencia de datos es la comunicación, una parte crítica de cualquier proyecto de análisis de datos. No importa qué tan bien tus modelos y visualizaciones te hayan permitido entender tus datos, a menos que también puedas comunicar esos resultados a otras personas.\n",
    "\n",
    "Alrededor de todas estas herramientas se encuentra la programación. La programación es una herramienta transversal que usarás en todas las partes de tu proyecto. No necesitas ser una personas experta en programación para hacer ciencia de datos, pero aprender más sobre ella es una gran ventaja porque te permite automatizar tareas recurrentes y resolver problemas con mayor facilidad.\n",
    "\n",
    "En cualquier proyecto de ciencia de datos tendrás que ocupar estas herramientas, pero en muchos casos estas no serán suficientes. Hay un regla aproximada de 80-20 en juego: puedes enfrentar alrededor del 80 % de cualquier proyecto usando las herramientas que aprenderás en este libro, pero necesitarás utilizar otras para abordar el 20 % restante. A lo largo del libro te iremos señalando recursos donde puedes aprender más.\n"
   ]
  },
  {
   "cell_type": "markdown",
   "metadata": {},
   "source": []
  },
  {
   "cell_type": "markdown",
   "metadata": {},
   "source": []
  },
  {
   "cell_type": "markdown",
   "metadata": {},
   "source": [
    "# Introducción a R para ciencia de datos desde workshop o taller diseñado por dos doctores\n",
    "\n",
    "[Página de latinR](https://latin-r.com/)"
   ]
  },
  {
   "cell_type": "markdown",
   "metadata": {},
   "source": [
    "# De donde instalar Rstudio\n",
    "\n",
    "[Descargar Rstudio desde aquí](https://posit.co/download/rstudio-desktop/)"
   ]
  },
  {
   "cell_type": "markdown",
   "metadata": {},
   "source": [
    "Desde la siguiente página puede realizar una introducción tidymodels. \n",
    "\n",
    "[Machine learning with tidymodels](https://workshops.tidymodels.org/)  "
   ]
  },
  {
   "cell_type": "markdown",
   "metadata": {},
   "source": [
    "<img src = 'data:image/jpeg;base64,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'>"
   ]
  },
  {
   "cell_type": "code",
   "execution_count": null,
   "metadata": {},
   "outputs": [],
   "source": []
  },
  {
   "cell_type": "code",
   "execution_count": null,
   "metadata": {},
   "outputs": [],
   "source": []
  },
  {
   "cell_type": "code",
   "execution_count": null,
   "metadata": {},
   "outputs": [],
   "source": []
  }
 ],
 "metadata": {
  "language_info": {
   "name": "python"
  }
 },
 "nbformat": 4,
 "nbformat_minor": 2
}
