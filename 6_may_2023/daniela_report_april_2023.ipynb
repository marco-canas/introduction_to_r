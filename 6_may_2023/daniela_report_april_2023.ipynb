{
  "cells": [
    {
      "cell_type": "markdown",
      "metadata": {
        "id": "view-in-github",
        "colab_type": "text"
      },
      "source": [
        "<a href=\"https://colab.research.google.com/github/marco-canas/cielo/blob/main/informes_actividades_mensuales/2_january_2023/daniela_informe_enero_2023.ipynb\" target=\"_parent\"><img src=\"https://colab.research.google.com/assets/colab-badge.svg\" alt=\"Open In Colab\"/></a>"
      ]
    },
    {
      "cell_type": "markdown",
      "id": "f5a5bbfe",
      "metadata": {
        "id": "f5a5bbfe"
      },
      "source": [
        "<table align=\"left\">\n",
        "  <td>\n",
        "    <a href=\"https://colab.research.google.com/github/marco-canas/cielo/blob/main/informes_actividades_mensuales/2_january_2023/daniela_informe_enero_2023.ipynb\" target=\"_parent\"><img src=\"https://colab.research.google.com/assets/colab-badge.svg\" alt=\"Open In Colab\"/></a>\n",
        "  </td>\n",
        "</table>"
      ]
    },
    {
      "cell_type": "markdown",
      "id": "17afa0bd",
      "metadata": {
        "id": "17afa0bd"
      },
      "source": [
        "## Actividades de cualificación como investigador"
      ]
    },
    {
      "cell_type": "markdown",
      "id": "aaed0b40",
      "metadata": {
        "id": "aaed0b40"
      },
      "source": [
        "## Actividades realizadas mes de Enero.\n",
        " [Medidas_de_tendencia_central](https://colab.research.google.com/drive/1R_iIi85ZwpXxhjXl4r2ELGKXctgAAvP-?authuser=1)"
      ]
    },
    {
      "cell_type": "markdown",
      "id": "fdfc5b06",
      "metadata": {
        "id": "fdfc5b06"
      },
      "source": [
        "## Actividades de divulgación científica (Video articulado al repositorio cielo, apoyo a eventos investigativos, )"
      ]
    },
    {
      "cell_type": "markdown",
      "id": "ebf4133b",
      "metadata": {
        "id": "ebf4133b"
      },
      "source": []
    },
    {
      "cell_type": "markdown",
      "id": "29a0ccd9",
      "metadata": {
        "id": "29a0ccd9"
      },
      "source": [
        "## Actividades de escritura científica"
      ]
    },
    {
      "cell_type": "markdown",
      "id": "96992c14",
      "metadata": {
        "id": "96992c14"
      },
      "source": [
        "### Párrafo de enero de 2023"
      ]
    },
    {
      "cell_type": "markdown",
      "source": [
        "# Enero: Daniela Ornett\n",
        "\n",
        "En el transcurso del mes de enero se acordó tomar un enfoque diferente en el rumbo del proyecto, ya no enfocado a un aprendizaje general del Machine Learning, sino darle un uso como una futura herramienta en nuestra vida laboral como futuro profesionales; nuestros tutores nos expesaron la idea de enfocar lo qe hemos parendido hasta ahora en un área que aplique a nuestrasa´reas de conocimiento.\n",
        "En mi caso particular, se enfocará en trabajar Regresión con bases de datos que manejen información acerca de factores agroclimáticos y así poder leerlos, estudiarlos y analizarlos de manera óptima.\n",
        "También se comenzó a trabajar docuemntos guía de trabajo para Estadística con Python."
      ],
      "metadata": {
        "id": "mfe5D-EUUjh5"
      },
      "id": "mfe5D-EUUjh5"
    },
    {
      "cell_type": "markdown",
      "id": "5653e2cf",
      "metadata": {
        "id": "5653e2cf"
      },
      "source": [
        "### Párrafo de febrero de 2023"
      ]
    },
    {
      "cell_type": "code",
      "execution_count": null,
      "id": "d0c9e09d",
      "metadata": {
        "id": "d0c9e09d"
      },
      "outputs": [],
      "source": []
    },
    {
      "cell_type": "markdown",
      "id": "2a584dfe",
      "metadata": {
        "id": "2a584dfe"
      },
      "source": [
        "### Párrafo de marzo de 2023"
      ]
    },
    {
      "cell_type": "code",
      "execution_count": null,
      "id": "23cc8bca",
      "metadata": {
        "id": "23cc8bca"
      },
      "outputs": [],
      "source": []
    },
    {
      "cell_type": "markdown",
      "id": "353cbb66",
      "metadata": {
        "id": "353cbb66"
      },
      "source": [
        "### Párrafo de abril de 2023"
      ]
    },
    {
      "cell_type": "code",
      "execution_count": null,
      "id": "14f9c247",
      "metadata": {
        "id": "14f9c247"
      },
      "outputs": [],
      "source": []
    },
    {
      "cell_type": "markdown",
      "id": "b791ddab",
      "metadata": {
        "id": "b791ddab"
      },
      "source": [
        "### Párrafo de mayo de 2023"
      ]
    },
    {
      "cell_type": "code",
      "execution_count": null,
      "id": "2cce68f7",
      "metadata": {
        "id": "2cce68f7"
      },
      "outputs": [],
      "source": []
    },
    {
      "cell_type": "markdown",
      "id": "1e64ff6d",
      "metadata": {
        "id": "1e64ff6d"
      },
      "source": [
        "### Párrafo de junio de 2023"
      ]
    },
    {
      "cell_type": "code",
      "execution_count": null,
      "id": "6b87c031",
      "metadata": {
        "id": "6b87c031"
      },
      "outputs": [],
      "source": []
    },
    {
      "cell_type": "markdown",
      "id": "fb8ec14c",
      "metadata": {
        "id": "fb8ec14c"
      },
      "source": [
        "### Párrafo de julio de 2023"
      ]
    },
    {
      "cell_type": "code",
      "execution_count": null,
      "id": "79f4e7e6",
      "metadata": {
        "id": "79f4e7e6"
      },
      "outputs": [],
      "source": []
    },
    {
      "cell_type": "markdown",
      "id": "5344adef",
      "metadata": {
        "id": "5344adef"
      },
      "source": [
        "### Párrafo de agosto de 2023"
      ]
    },
    {
      "cell_type": "code",
      "execution_count": null,
      "id": "459c7755",
      "metadata": {
        "id": "459c7755"
      },
      "outputs": [],
      "source": []
    },
    {
      "cell_type": "markdown",
      "id": "1d604490",
      "metadata": {
        "id": "1d604490"
      },
      "source": [
        "### Párrafo de septiembre de 2023"
      ]
    },
    {
      "cell_type": "code",
      "execution_count": null,
      "id": "0c83b6f8",
      "metadata": {
        "id": "0c83b6f8"
      },
      "outputs": [],
      "source": []
    }
  ],
  "metadata": {
    "celltoolbar": "Slideshow",
    "kernelspec": {
      "display_name": "Python 3 (ipykernel)",
      "language": "python",
      "name": "python3"
    },
    "language_info": {
      "codemirror_mode": {
        "name": "ipython",
        "version": 3
      },
      "file_extension": ".py",
      "mimetype": "text/x-python",
      "name": "python",
      "nbconvert_exporter": "python",
      "pygments_lexer": "ipython3",
      "version": "3.9.13"
    },
    "rise": {
      "enable_chalkboard": true,
      "theme": "sky"
    },
    "colab": {
      "provenance": [],
      "include_colab_link": true
    }
  },
  "nbformat": 4,
  "nbformat_minor": 5
}