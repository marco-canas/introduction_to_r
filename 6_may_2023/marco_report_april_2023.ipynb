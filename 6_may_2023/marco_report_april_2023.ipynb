{
 "cells": [
  {
   "cell_type": "markdown",
   "id": "6055264c",
   "metadata": {
    "slideshow": {
     "slide_type": "slide"
    }
   },
   "source": [
    "<table align=\"left\">\n",
    "  <td>\n",
    "    <a href=\"https://colab.research.google.com/github/marco-canas/8_sky/blob/main/informes_actividades_mensuales/3_februery_2023/marco_february_2023.ipynb\" target=\"_parent\"><img src=\"https://colab.research.google.com/assets/colab-badge.svg\" alt=\"Open In Colab\"/></a>\n",
    "  </td>\n",
    "</table>"
   ]
  },
  {
   "cell_type": "markdown",
   "id": "e39981f0",
   "metadata": {
    "slideshow": {
     "slide_type": "slide"
    }
   },
   "source": [
    "## [Video de apoyo a la lectura de este inform from April of 2023 from teacher Marco]()"
   ]
  },
  {
   "cell_type": "markdown",
   "id": "c572555b",
   "metadata": {
    "slideshow": {
     "slide_type": "slide"
    }
   },
   "source": [
    "# Informe Marco Julio Cañas Campillo: Mes de abril de 2023"
   ]
  },
  {
   "cell_type": "markdown",
   "id": "dcf545a7",
   "metadata": {
    "slideshow": {
     "slide_type": "slide"
    }
   },
   "source": [
    "### Actividades de cualificación como investigador"
   ]
  },
  {
   "cell_type": "markdown",
   "id": "4f04ca68",
   "metadata": {
    "slideshow": {
     "slide_type": "slide"
    }
   },
   "source": [
    "* Realicé el [múdulo completo en estadística descriptiva](https://github.com/marco-canas/7_didactica_ciencia_datos/tree/main/propuesta/unidad_didac/1_statistic/1_Basic_Descriptive_Statistics) para ciencia de datos. De tal manera que la secuencia de enseñanza esté articulada por hipervínculos con un modelo de enseñanza de aula invertida(flipped Classroom). \n",
    "\n",
    "* Faltará para cada uno de estos cuadernos adicionar las tareas para realizar por fuera de clase y las tareas para realizar en clase y el modelo de evaluación. \n",
    "\n",
    "* Realizar un curso sobre escritura académica. \n",
    "\n"
   ]
  },
  {
   "cell_type": "markdown",
   "id": "e663c12e",
   "metadata": {
    "slideshow": {
     "slide_type": "slide"
    }
   },
   "source": [
    "[Estructura de un artículo científico](http://scielo.sld.cu/scielo.php?script=sci_arttext&pid=S0864-02892016000100006)"
   ]
  },
  {
   "cell_type": "markdown",
   "id": "709e7db8",
   "metadata": {
    "slideshow": {
     "slide_type": "slide"
    }
   },
   "source": [
    "## Párrafo de este mes con su reflexión en cuanto al aprendizaje de la ciencia de datos con o Python y construcción de modelos predictivos para variables meteorológicas"
   ]
  },
  {
   "cell_type": "markdown",
   "id": "9c6913e9",
   "metadata": {
    "slideshow": {
     "slide_type": "slide"
    }
   },
   "source": [
    "# Desarrollo pensamiento computacional "
   ]
  },
  {
   "cell_type": "markdown",
   "id": "7d165373",
   "metadata": {
    "slideshow": {
     "slide_type": "slide"
    }
   },
   "source": [
    "Mostraremos como en mi experiencia docente el lenguaje python incentiva la competencia de resolver problemas construyendo modelos computacionales. "
   ]
  },
  {
   "cell_type": "markdown",
   "id": "6071f2fe",
   "metadata": {
    "slideshow": {
     "slide_type": "slide"
    }
   },
   "source": [
    "En este mes, me llamó mucho la atención como con la computación podemos resolver preblemas de protección de la comunicación, a lo que llaman criptografía. "
   ]
  },
  {
   "cell_type": "markdown",
   "id": "c0a7dc06",
   "metadata": {
    "slideshow": {
     "slide_type": "slide"
    }
   },
   "source": [
    "También me llamó la atención cómo podemos construir un modelo de clasificación de plantas con una red neuronal. Y más aún su representación gráfica. "
   ]
  },
  {
   "cell_type": "markdown",
   "id": "14f5523f",
   "metadata": {
    "slideshow": {
     "slide_type": "slide"
    }
   },
   "source": [
    "Veamos el asunto de la protección de la confidencialidad de las comunicaciones: "
   ]
  },
  {
   "cell_type": "markdown",
   "id": "a49d2e37",
   "metadata": {
    "slideshow": {
     "slide_type": "slide"
    }
   },
   "source": [
    "## El método de sustitución simple"
   ]
  },
  {
   "cell_type": "markdown",
   "id": "690edde4",
   "metadata": {
    "slideshow": {
     "slide_type": "slide"
    }
   },
   "source": [
    "Este es un primer método de protección de las comunicaciones que consiste en sustituir cada letra de un mensaje a proteger por la letra siguiente del alfebeto que le corresponde "
   ]
  },
  {
   "cell_type": "markdown",
   "id": "33b9c924",
   "metadata": {
    "slideshow": {
     "slide_type": "slide"
    }
   },
   "source": [
    "<img src = 'https://github.com/marco-canas/4_didactica_aritmetica/blob/main/classes/1_class_9_feb_proteger_informacion/fig_1.png?raw=true'>"
   ]
  },
  {
   "cell_type": "markdown",
   "id": "1c405733",
   "metadata": {
    "slideshow": {
     "slide_type": "slide"
    }
   },
   "source": [
    "# Código python de la función que genera dos mapeos o funciones de sustitución para protección de la confidencialidad de las comunicaciones"
   ]
  },
  {
   "cell_type": "code",
   "execution_count": 1,
   "id": "e8c05366",
   "metadata": {
    "slideshow": {
     "slide_type": "slide"
    }
   },
   "outputs": [],
   "source": [
    "import string # este modulo nos provee el alfabeto el minúsculas o mayúsculas ordenado e indexado. "
   ]
  },
  {
   "cell_type": "code",
   "execution_count": 3,
   "id": "f0a38220",
   "metadata": {
    "slideshow": {
     "slide_type": "slide"
    }
   },
   "outputs": [],
   "source": [
    "ALFABETO = string.ascii_uppercase"
   ]
  },
  {
   "cell_type": "code",
   "execution_count": 4,
   "id": "3b07ca07",
   "metadata": {
    "slideshow": {
     "slide_type": "slide"
    }
   },
   "outputs": [
    {
     "data": {
      "text/plain": [
       "'ABCDEFGHIJKLMNOPQRSTUVWXYZ'"
      ]
     },
     "execution_count": 4,
     "metadata": {},
     "output_type": "execute_result"
    }
   ],
   "source": [
    "ALFABETO"
   ]
  },
  {
   "cell_type": "code",
   "execution_count": 5,
   "id": "2f84e48c",
   "metadata": {
    "slideshow": {
     "slide_type": "slide"
    }
   },
   "outputs": [
    {
     "data": {
      "text/plain": [
       "'A'"
      ]
     },
     "execution_count": 5,
     "metadata": {},
     "output_type": "execute_result"
    }
   ],
   "source": [
    "ALFABETO[0] # para acceder a la primera letra lo hacemos con el índice 0"
   ]
  },
  {
   "cell_type": "code",
   "execution_count": 7,
   "id": "56251d88",
   "metadata": {
    "slideshow": {
     "slide_type": "slide"
    }
   },
   "outputs": [
    {
     "data": {
      "text/plain": [
       "'C'"
      ]
     },
     "execution_count": 7,
     "metadata": {},
     "output_type": "execute_result"
    }
   ],
   "source": [
    "ALFABETO[2] "
   ]
  },
  {
   "cell_type": "markdown",
   "id": "51b127a2",
   "metadata": {
    "slideshow": {
     "slide_type": "slide"
    }
   },
   "source": [
    "Así, podemos ver que gracias a los enteros podemos acceder a la información de manera organizada.  gracias a que todo entero tiene un consecutivo. "
   ]
  },
  {
   "cell_type": "code",
   "execution_count": 8,
   "id": "16ad848c",
   "metadata": {
    "slideshow": {
     "slide_type": "slide"
    }
   },
   "outputs": [
    {
     "name": "stdout",
     "output_type": "stream",
     "text": [
      "26\n"
     ]
    }
   ],
   "source": [
    "alphabet_size = len(string.ascii_uppercase)\n",
    "print(alphabet_size)"
   ]
  },
  {
   "cell_type": "markdown",
   "id": "72dc9d21",
   "metadata": {
    "slideshow": {
     "slide_type": "slide"
    }
   },
   "source": [
    "Fue un enrriquecedor ver que mis estudiantes podián sugerir que para ordenar el alfabeto debemos utilizar números enteros no negativos. Y que computacionalmente, la primera posición en este ordenamiento se indexa con el cero. "
   ]
  },
  {
   "cell_type": "markdown",
   "id": "67869706",
   "metadata": {
    "slideshow": {
     "slide_type": "slide"
    }
   },
   "source": [
    "Y fue muy bacano ver que debemos automatizar el proceso de codificado de la información y para ello existen las funciones de Python. Las que se crean con la sentencia `def`"
   ]
  },
  {
   "cell_type": "markdown",
   "id": "46e21271",
   "metadata": {
    "slideshow": {
     "slide_type": "slide"
    }
   },
   "source": [
    "# Observe el fenómeno de residuos cíclicos"
   ]
  },
  {
   "cell_type": "markdown",
   "id": "1470d55a",
   "metadata": {
    "slideshow": {
     "slide_type": "slide"
    }
   },
   "source": [
    "Cuando un segmento de números enteros se calcula el residuo de la division de ellos por un entero dado $m$, se nota un comportamiento periódico de los los residuos que obtiene"
   ]
  },
  {
   "cell_type": "code",
   "execution_count": 1,
   "id": "5ee2c0c5",
   "metadata": {
    "slideshow": {
     "slide_type": "slide"
    }
   },
   "outputs": [],
   "source": [
    "import numpy as np "
   ]
  },
  {
   "cell_type": "code",
   "execution_count": 3,
   "id": "dfaea878",
   "metadata": {
    "slideshow": {
     "slide_type": "slide"
    }
   },
   "outputs": [
    {
     "data": {
      "text/plain": [
       "array([ 1,  2,  3,  4,  5,  6,  7,  8,  9, 10, 11, 12, 13, 14, 15, 16, 17,\n",
       "       18, 19, 20])"
      ]
     },
     "execution_count": 3,
     "metadata": {},
     "output_type": "execute_result"
    }
   ],
   "source": [
    "n = 20\n",
    "segmento_de_los_primeros_enteros_positivos = np.arange(1, n+1)\n",
    "segmento_de_los_primeros_enteros_positivos"
   ]
  },
  {
   "cell_type": "code",
   "execution_count": 6,
   "id": "866d98b5",
   "metadata": {
    "slideshow": {
     "slide_type": "slide"
    }
   },
   "outputs": [
    {
     "data": {
      "text/plain": [
       "array([1, 2, 3, 0, 1, 2, 3, 0, 1, 2, 3, 0, 1, 2, 3, 0, 1, 2, 3, 0],\n",
       "      dtype=int32)"
      ]
     },
     "execution_count": 6,
     "metadata": {},
     "output_type": "execute_result"
    }
   ],
   "source": [
    "m = 4\n",
    "segmento_de_los_primeros_enteros_positivos%m"
   ]
  },
  {
   "cell_type": "markdown",
   "id": "59698585",
   "metadata": {
    "slideshow": {
     "slide_type": "slide"
    }
   },
   "source": [
    "Así, hemos observado que al dividir por un entero m dado, a un segmento de números naturales, observamos un comportamiento poeriódico o repetitivo de los residuos que obtenemos. "
   ]
  },
  {
   "cell_type": "code",
   "execution_count": 7,
   "id": "d7f3da9a",
   "metadata": {
    "slideshow": {
     "slide_type": "slide"
    }
   },
   "outputs": [],
   "source": [
    "import string # es un módulo para manipular cadenas de caracteres\n",
    " \n",
    "def crear_funciones_de_codificaci_decodificacion(n = 1):\n",
    "    '''\n",
    "    INPUT: n es la distancia de la sustitución\n",
    "    OUTPUT: salen dos funciones definidas a través de dos diccionarios de Python,\n",
    "    una de codificación y otra de decodificación. \n",
    "    '''\n",
    "    codificacion = {} # diccionario vacio para codificación\n",
    "    decodificacion = {} # diccionario vacio para codificación\n",
    "    ALFABETO = string.ascii_uppercase\n",
    "    alphabet_size = len(ALFABETO)\n",
    "    for i in range(alphabet_size): # hacer 26 iteraciones\n",
    "        letra = string.ascii_uppercase[i]\n",
    "        letra_sustituta = string.ascii_uppercase[(i+n)%alphabet_size]\n",
    "\n",
    "        codificacion[letra] = letra_sustituta\n",
    "        decodificacion[letra_sustituta] = letra \n",
    "    return codificacion, decodificacion"
   ]
  },
  {
   "cell_type": "code",
   "execution_count": 8,
   "id": "ecf9de46",
   "metadata": {
    "slideshow": {
     "slide_type": "slide"
    }
   },
   "outputs": [
    {
     "data": {
      "text/plain": [
       "({'A': 'C',\n",
       "  'B': 'D',\n",
       "  'C': 'E',\n",
       "  'D': 'F',\n",
       "  'E': 'G',\n",
       "  'F': 'H',\n",
       "  'G': 'I',\n",
       "  'H': 'J',\n",
       "  'I': 'K',\n",
       "  'J': 'L',\n",
       "  'K': 'M',\n",
       "  'L': 'N',\n",
       "  'M': 'O',\n",
       "  'N': 'P',\n",
       "  'O': 'Q',\n",
       "  'P': 'R',\n",
       "  'Q': 'S',\n",
       "  'R': 'T',\n",
       "  'S': 'U',\n",
       "  'T': 'V',\n",
       "  'U': 'W',\n",
       "  'V': 'X',\n",
       "  'W': 'Y',\n",
       "  'X': 'Z',\n",
       "  'Y': 'A',\n",
       "  'Z': 'B'},\n",
       " {'C': 'A',\n",
       "  'D': 'B',\n",
       "  'E': 'C',\n",
       "  'F': 'D',\n",
       "  'G': 'E',\n",
       "  'H': 'F',\n",
       "  'I': 'G',\n",
       "  'J': 'H',\n",
       "  'K': 'I',\n",
       "  'L': 'J',\n",
       "  'M': 'K',\n",
       "  'N': 'L',\n",
       "  'O': 'M',\n",
       "  'P': 'N',\n",
       "  'Q': 'O',\n",
       "  'R': 'P',\n",
       "  'S': 'Q',\n",
       "  'T': 'R',\n",
       "  'U': 'S',\n",
       "  'V': 'T',\n",
       "  'W': 'U',\n",
       "  'X': 'V',\n",
       "  'Y': 'W',\n",
       "  'Z': 'X',\n",
       "  'A': 'Y',\n",
       "  'B': 'Z'})"
      ]
     },
     "execution_count": 8,
     "metadata": {},
     "output_type": "execute_result"
    }
   ],
   "source": [
    "crear_funciones_de_codificaci_decodificacion(n = 2)"
   ]
  },
  {
   "cell_type": "markdown",
   "id": "94494dac",
   "metadata": {
    "slideshow": {
     "slide_type": "slide"
    }
   },
   "source": [
    "## Constituir un detector de setosa y representarlo a través de un diagrama de dispersión y una función lineal"
   ]
  },
  {
   "cell_type": "markdown",
   "id": "9297ffe0",
   "metadata": {
    "slideshow": {
     "slide_type": "slide"
    }
   },
   "source": [
    "## El perceptron como clasificador de datos linealmente separables"
   ]
  },
  {
   "cell_type": "markdown",
   "id": "1b618744",
   "metadata": {
    "slideshow": {
     "slide_type": "slide"
    }
   },
   "source": [
    "Empecemos contextualizando en la situación problemática. "
   ]
  },
  {
   "cell_type": "markdown",
   "id": "d16874c8",
   "metadata": {
    "slideshow": {
     "slide_type": "slide"
    }
   },
   "source": [
    "Queremos tener un instrumento que nos permita saber cuando una flor de iris es setosa y cuando nó. "
   ]
  },
  {
   "cell_type": "markdown",
   "id": "091eb17c",
   "metadata": {
    "slideshow": {
     "slide_type": "slide"
    }
   },
   "source": [
    "La siguiente es una imagen de las diferentes flores de iris:\n",
    "\n",
    "<img src = 'data:image/jpeg;base64,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'>"
   ]
  },
  {
   "cell_type": "markdown",
   "id": "065825ff",
   "metadata": {
    "slideshow": {
     "slide_type": "slide"
    }
   },
   "source": [
    "La siguiente es una imagen de una flor de iris de tipo setosa:\n",
    "\n",
    "<img src = 'https://1938.com.es/assets/html_ejemplos/iris-machinelearning.png'>"
   ]
  },
  {
   "cell_type": "markdown",
   "id": "fb7ba923",
   "metadata": {
    "slideshow": {
     "slide_type": "slide"
    }
   },
   "source": [
    "Así podemos ver que la flor de iris tipo setosa es una flor de dimensiones pequeñas de su sépalo y pétalo. "
   ]
  },
  {
   "cell_type": "markdown",
   "id": "d316a71a",
   "metadata": {
    "slideshow": {
     "slide_type": "slide"
    }
   },
   "source": [
    "Aprendí a obtener el dataset de flores de iris desde la libería scikitlearn así:"
   ]
  },
  {
   "cell_type": "code",
   "execution_count": 9,
   "id": "53e490e3",
   "metadata": {
    "slideshow": {
     "slide_type": "slide"
    }
   },
   "outputs": [],
   "source": [
    "from sklearn.datasets import load_iris "
   ]
  },
  {
   "cell_type": "code",
   "execution_count": 10,
   "id": "0eaafb80",
   "metadata": {
    "slideshow": {
     "slide_type": "slide"
    }
   },
   "outputs": [],
   "source": [
    "iris = load_iris(as_frame = True)  "
   ]
  },
  {
   "cell_type": "code",
   "execution_count": 11,
   "id": "7f28e4cf",
   "metadata": {
    "slideshow": {
     "slide_type": "slide"
    }
   },
   "outputs": [
    {
     "data": {
      "text/plain": [
       "sklearn.utils.Bunch"
      ]
     },
     "execution_count": 11,
     "metadata": {},
     "output_type": "execute_result"
    }
   ],
   "source": [
    "type(iris) "
   ]
  },
  {
   "cell_type": "markdown",
   "id": "2a2150e2",
   "metadata": {
    "slideshow": {
     "slide_type": "slide"
    }
   },
   "source": [
    "el tipo de estructura Bunch es una estructura de datos o una manera de almacenar los datos parecida a los diccionarios de python, en los que podemos acceder a la información a través de palabras y no a través de enteros como en las listas de Python. Esto facilita el acceso a la información"
   ]
  },
  {
   "cell_type": "code",
   "execution_count": 12,
   "id": "303656e6",
   "metadata": {
    "slideshow": {
     "slide_type": "slide"
    }
   },
   "outputs": [
    {
     "data": {
      "text/plain": [
       "dict_keys(['data', 'target', 'frame', 'target_names', 'DESCR', 'feature_names', 'filename', 'data_module'])"
      ]
     },
     "execution_count": 12,
     "metadata": {},
     "output_type": "execute_result"
    }
   ],
   "source": [
    "iris.keys() "
   ]
  },
  {
   "cell_type": "code",
   "execution_count": 13,
   "id": "7a7d991c",
   "metadata": {
    "slideshow": {
     "slide_type": "slide"
    }
   },
   "outputs": [
    {
     "data": {
      "text/html": [
       "<div>\n",
       "<style scoped>\n",
       "    .dataframe tbody tr th:only-of-type {\n",
       "        vertical-align: middle;\n",
       "    }\n",
       "\n",
       "    .dataframe tbody tr th {\n",
       "        vertical-align: top;\n",
       "    }\n",
       "\n",
       "    .dataframe thead th {\n",
       "        text-align: right;\n",
       "    }\n",
       "</style>\n",
       "<table border=\"1\" class=\"dataframe\">\n",
       "  <thead>\n",
       "    <tr style=\"text-align: right;\">\n",
       "      <th></th>\n",
       "      <th>sepal length (cm)</th>\n",
       "      <th>sepal width (cm)</th>\n",
       "      <th>petal length (cm)</th>\n",
       "      <th>petal width (cm)</th>\n",
       "    </tr>\n",
       "  </thead>\n",
       "  <tbody>\n",
       "    <tr>\n",
       "      <th>0</th>\n",
       "      <td>5.1</td>\n",
       "      <td>3.5</td>\n",
       "      <td>1.4</td>\n",
       "      <td>0.2</td>\n",
       "    </tr>\n",
       "    <tr>\n",
       "      <th>1</th>\n",
       "      <td>4.9</td>\n",
       "      <td>3.0</td>\n",
       "      <td>1.4</td>\n",
       "      <td>0.2</td>\n",
       "    </tr>\n",
       "    <tr>\n",
       "      <th>2</th>\n",
       "      <td>4.7</td>\n",
       "      <td>3.2</td>\n",
       "      <td>1.3</td>\n",
       "      <td>0.2</td>\n",
       "    </tr>\n",
       "    <tr>\n",
       "      <th>3</th>\n",
       "      <td>4.6</td>\n",
       "      <td>3.1</td>\n",
       "      <td>1.5</td>\n",
       "      <td>0.2</td>\n",
       "    </tr>\n",
       "    <tr>\n",
       "      <th>4</th>\n",
       "      <td>5.0</td>\n",
       "      <td>3.6</td>\n",
       "      <td>1.4</td>\n",
       "      <td>0.2</td>\n",
       "    </tr>\n",
       "    <tr>\n",
       "      <th>...</th>\n",
       "      <td>...</td>\n",
       "      <td>...</td>\n",
       "      <td>...</td>\n",
       "      <td>...</td>\n",
       "    </tr>\n",
       "    <tr>\n",
       "      <th>145</th>\n",
       "      <td>6.7</td>\n",
       "      <td>3.0</td>\n",
       "      <td>5.2</td>\n",
       "      <td>2.3</td>\n",
       "    </tr>\n",
       "    <tr>\n",
       "      <th>146</th>\n",
       "      <td>6.3</td>\n",
       "      <td>2.5</td>\n",
       "      <td>5.0</td>\n",
       "      <td>1.9</td>\n",
       "    </tr>\n",
       "    <tr>\n",
       "      <th>147</th>\n",
       "      <td>6.5</td>\n",
       "      <td>3.0</td>\n",
       "      <td>5.2</td>\n",
       "      <td>2.0</td>\n",
       "    </tr>\n",
       "    <tr>\n",
       "      <th>148</th>\n",
       "      <td>6.2</td>\n",
       "      <td>3.4</td>\n",
       "      <td>5.4</td>\n",
       "      <td>2.3</td>\n",
       "    </tr>\n",
       "    <tr>\n",
       "      <th>149</th>\n",
       "      <td>5.9</td>\n",
       "      <td>3.0</td>\n",
       "      <td>5.1</td>\n",
       "      <td>1.8</td>\n",
       "    </tr>\n",
       "  </tbody>\n",
       "</table>\n",
       "<p>150 rows × 4 columns</p>\n",
       "</div>"
      ],
      "text/plain": [
       "     sepal length (cm)  sepal width (cm)  petal length (cm)  petal width (cm)\n",
       "0                  5.1               3.5                1.4               0.2\n",
       "1                  4.9               3.0                1.4               0.2\n",
       "2                  4.7               3.2                1.3               0.2\n",
       "3                  4.6               3.1                1.5               0.2\n",
       "4                  5.0               3.6                1.4               0.2\n",
       "..                 ...               ...                ...               ...\n",
       "145                6.7               3.0                5.2               2.3\n",
       "146                6.3               2.5                5.0               1.9\n",
       "147                6.5               3.0                5.2               2.0\n",
       "148                6.2               3.4                5.4               2.3\n",
       "149                5.9               3.0                5.1               1.8\n",
       "\n",
       "[150 rows x 4 columns]"
      ]
     },
     "execution_count": 13,
     "metadata": {},
     "output_type": "execute_result"
    }
   ],
   "source": [
    "iris.data"
   ]
  },
  {
   "cell_type": "code",
   "execution_count": 14,
   "id": "f45972ee",
   "metadata": {
    "slideshow": {
     "slide_type": "slide"
    }
   },
   "outputs": [
    {
     "data": {
      "text/plain": [
       "pandas.core.series.Series"
      ]
     },
     "execution_count": 14,
     "metadata": {},
     "output_type": "execute_result"
    }
   ],
   "source": [
    "type(iris.target) "
   ]
  },
  {
   "cell_type": "markdown",
   "id": "d0850503",
   "metadata": {
    "slideshow": {
     "slide_type": "slide"
    }
   },
   "source": [
    "# Trasnsformar los datos en arreglos de numpy"
   ]
  },
  {
   "cell_type": "markdown",
   "id": "63483772",
   "metadata": {
    "slideshow": {
     "slide_type": "slide"
    }
   },
   "source": [
    "Aprendí que sklearn me puede hallar un buen modelo clasificador pero los datos los debo tener estructurados como matrices de NumPy.  "
   ]
  },
  {
   "cell_type": "code",
   "execution_count": 15,
   "id": "e05ef96a",
   "metadata": {
    "slideshow": {
     "slide_type": "slide"
    }
   },
   "outputs": [],
   "source": [
    "X, y = iris.data.values, iris.target.values"
   ]
  },
  {
   "cell_type": "code",
   "execution_count": 16,
   "id": "e3be1ce7",
   "metadata": {
    "slideshow": {
     "slide_type": "slide"
    }
   },
   "outputs": [],
   "source": [
    "from sklearn.model_selection import train_test_split "
   ]
  },
  {
   "cell_type": "code",
   "execution_count": 17,
   "id": "add9c938",
   "metadata": {
    "slideshow": {
     "slide_type": "slide"
    }
   },
   "outputs": [],
   "source": [
    "X_train_full, X_test, y_train_full, y_test = train_test_split(X,y, \\\n",
    "    test_size = 0.1, random_state = 42)"
   ]
  },
  {
   "cell_type": "code",
   "execution_count": null,
   "id": "02e651f4",
   "metadata": {
    "slideshow": {
     "slide_type": "slide"
    }
   },
   "outputs": [],
   "source": []
  },
  {
   "cell_type": "code",
   "execution_count": null,
   "id": "af500e65",
   "metadata": {},
   "outputs": [],
   "source": []
  },
  {
   "cell_type": "code",
   "execution_count": null,
   "id": "aa35e809",
   "metadata": {},
   "outputs": [],
   "source": []
  },
  {
   "cell_type": "code",
   "execution_count": null,
   "id": "c2f8a71a",
   "metadata": {
    "slideshow": {
     "slide_type": "slide"
    }
   },
   "outputs": [],
   "source": []
  },
  {
   "cell_type": "markdown",
   "id": "65739a19",
   "metadata": {
    "slideshow": {
     "slide_type": "slide"
    }
   },
   "source": [
    "# [Lectura a Manual de redacción académica e investigativa: Cómo escribir, evaluar y publicar artículos](https://udeaeduco-my.sharepoint.com/:b:/g/personal/marco_canas_udea_edu_co/EV9hrAFv-wxJq3twnRRvrN8BybcAxlLSS9mz_jdD9CcWlg?e=mRSYMl)"
   ]
  },
  {
   "cell_type": "markdown",
   "id": "d946e71c",
   "metadata": {
    "slideshow": {
     "slide_type": "slide"
    }
   },
   "source": [
    "Este texto tiene un enfoque de alfabetización académica"
   ]
  },
  {
   "cell_type": "markdown",
   "id": "b12be9d3",
   "metadata": {
    "slideshow": {
     "slide_type": "slide"
    }
   },
   "source": [
    "Se enfatiza en la relevancia de la comunicación escrita en la investigación. "
   ]
  },
  {
   "cell_type": "markdown",
   "id": "2977deac",
   "metadata": {
    "slideshow": {
     "slide_type": "slide"
    }
   },
   "source": [
    "Es menester capacitarse y demostrar habilidades en escritura científica como estrategia comunicativa y aporte a la apropiación social del conocimiento. "
   ]
  },
  {
   "cell_type": "markdown",
   "id": "0cc829bd",
   "metadata": {
    "slideshow": {
     "slide_type": "slide"
    }
   },
   "source": [
    "La alfabetización académica como problemática en educación superior"
   ]
  },
  {
   "cell_type": "markdown",
   "id": "21e30ed1",
   "metadata": {
    "slideshow": {
     "slide_type": "slide"
    }
   },
   "source": []
  },
  {
   "cell_type": "code",
   "execution_count": null,
   "id": "9023c02e",
   "metadata": {
    "slideshow": {
     "slide_type": "slide"
    }
   },
   "outputs": [],
   "source": []
  },
  {
   "cell_type": "code",
   "execution_count": null,
   "id": "9c138c94",
   "metadata": {
    "slideshow": {
     "slide_type": "slide"
    }
   },
   "outputs": [],
   "source": []
  },
  {
   "cell_type": "code",
   "execution_count": null,
   "id": "cf058ae0",
   "metadata": {
    "slideshow": {
     "slide_type": "slide"
    }
   },
   "outputs": [],
   "source": []
  },
  {
   "cell_type": "code",
   "execution_count": null,
   "id": "585f97fc",
   "metadata": {},
   "outputs": [],
   "source": []
  },
  {
   "cell_type": "markdown",
   "id": "c47e4256",
   "metadata": {
    "slideshow": {
     "slide_type": "slide"
    }
   },
   "source": [
    "## Referentes  \n",
    "\n"
   ]
  },
  {
   "cell_type": "markdown",
   "id": "24959f36",
   "metadata": {
    "slideshow": {
     "slide_type": "slide"
    }
   },
   "source": [
    "* Nielson, Seth James. Practical Cryptography in Python\n",
    "\n",
    "* [Manual de redacción académica e investigativa: Cómo escribir, evaluar y publicar artículos. Sánchez Upegui, Alexánder Arbey ](https://udeaeduco-my.sharepoint.com/:b:/g/personal/marco_canas_udea_edu_co/EV9hrAFv-wxJq3twnRRvrN8BybcAxlLSS9mz_jdD9CcWlg?e=mRSYMl)"
   ]
  },
  {
   "cell_type": "code",
   "execution_count": null,
   "id": "32064178",
   "metadata": {},
   "outputs": [],
   "source": []
  }
 ],
 "metadata": {
  "celltoolbar": "Slideshow",
  "kernelspec": {
   "display_name": "Python 3 (ipykernel)",
   "language": "python",
   "name": "python3"
  },
  "language_info": {
   "codemirror_mode": {
    "name": "ipython",
    "version": 3
   },
   "file_extension": ".py",
   "mimetype": "text/x-python",
   "name": "python",
   "nbconvert_exporter": "python",
   "pygments_lexer": "ipython3",
   "version": "3.9.13"
  },
  "rise": {
   "enable_chalkboard": true,
   "theme": "sky"
  },
  "vscode": {
   "interpreter": {
    "hash": "4872d8d3c2bbc685ce63036ae2af19b2205f6c9572f817ece472ff4ae51ff82f"
   }
  }
 },
 "nbformat": 4,
 "nbformat_minor": 5
}
