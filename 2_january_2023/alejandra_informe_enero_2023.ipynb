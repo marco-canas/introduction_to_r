{
 "cells": [
  {
   "cell_type": "markdown",
   "id": "5a84f97e",
   "metadata": {
    "slideshow": {
     "slide_type": "slide"
    }
   },
   "source": [
    "<table align=\"left\">\n",
    "  <td>\n",
    "    <a href=\"https://colab.research.google.com/github/marco-canas/cielo/blob/main/informes_actividades_mensuales/2_january_2023/alejandra_informe_enero_2023.ipynb\" target=\"_parent\"><img src=\"https://colab.research.google.com/assets/colab-badge.svg\" alt=\"Open In Colab\"/></a>\n",
    "  </td>\n",
    "</table>"
   ]
  },
  {
   "cell_type": "markdown",
   "id": "3b63e980",
   "metadata": {
    "slideshow": {
     "slide_type": "slide"
    }
   },
   "source": [
    "## [Video de apoyo a este informe. Divulgación científica]()"
   ]
  },
  {
   "cell_type": "markdown",
   "id": "b6772661",
   "metadata": {
    "slideshow": {
     "slide_type": "slide"
    }
   },
   "source": [
    "## Actividades de cualificación como investigador"
   ]
  },
  {
   "cell_type": "markdown",
   "id": "10e3e6a0",
   "metadata": {
    "slideshow": {
     "slide_type": "slide"
    }
   },
   "source": []
  },
  {
   "cell_type": "markdown",
   "id": "dc752e6d",
   "metadata": {
    "slideshow": {
     "slide_type": "slide"
    }
   },
   "source": [
    "## Actividades de divulgación científica (Video articulado al repositorio cielo, apoyo a eventos investigativos, )"
   ]
  },
  {
   "cell_type": "markdown",
   "id": "a5a1beba",
   "metadata": {
    "slideshow": {
     "slide_type": "slide"
    }
   },
   "source": []
  },
  {
   "cell_type": "markdown",
   "id": "27c804e5",
   "metadata": {
    "slideshow": {
     "slide_type": "slide"
    }
   },
   "source": [
    "## Actividades de escritura científica"
   ]
  },
  {
   "cell_type": "markdown",
   "id": "11c9c943",
   "metadata": {
    "slideshow": {
     "slide_type": "slide"
    }
   },
   "source": [
    "### Párrafo de enero de 2023"
   ]
  },
  {
   "cell_type": "markdown",
   "id": "ced0bd2b",
   "metadata": {
    "slideshow": {
     "slide_type": "slide"
    }
   },
   "source": [
    "### Párrafo de febrero de 2023"
   ]
  },
  {
   "cell_type": "markdown",
   "id": "4d56cca8",
   "metadata": {},
   "source": [
    "### Párrafo de marzo de 2023"
   ]
  },
  {
   "cell_type": "markdown",
   "id": "57db0bbd",
   "metadata": {},
   "source": [
    "### Párrafo de abril de 2023"
   ]
  },
  {
   "cell_type": "markdown",
   "id": "921ec314",
   "metadata": {},
   "source": [
    "### Párrafo de mayo de 2023"
   ]
  },
  {
   "cell_type": "markdown",
   "id": "548e4de8",
   "metadata": {},
   "source": [
    "### Párrafo de junio de 2023"
   ]
  },
  {
   "cell_type": "markdown",
   "id": "1efc6d60",
   "metadata": {
    "slideshow": {
     "slide_type": "slide"
    }
   },
   "source": [
    "### Párrafo de julio de 2023"
   ]
  },
  {
   "cell_type": "markdown",
   "id": "0f6aafb3",
   "metadata": {},
   "source": [
    "### Párrafo de agosto de 2023"
   ]
  },
  {
   "cell_type": "markdown",
   "id": "b324cc67",
   "metadata": {},
   "source": [
    "### Párrafo de septiembre de 2023"
   ]
  },
  {
   "cell_type": "code",
   "execution_count": null,
   "id": "80c833e4",
   "metadata": {},
   "outputs": [],
   "source": []
  }
 ],
 "metadata": {
  "celltoolbar": "Slideshow",
  "kernelspec": {
   "display_name": "Python 3 (ipykernel)",
   "language": "python",
   "name": "python3"
  },
  "language_info": {
   "codemirror_mode": {
    "name": "ipython",
    "version": 3
   },
   "file_extension": ".py",
   "mimetype": "text/x-python",
   "name": "python",
   "nbconvert_exporter": "python",
   "pygments_lexer": "ipython3",
   "version": "3.9.13"
  }
 },
 "nbformat": 4,
 "nbformat_minor": 5
}
