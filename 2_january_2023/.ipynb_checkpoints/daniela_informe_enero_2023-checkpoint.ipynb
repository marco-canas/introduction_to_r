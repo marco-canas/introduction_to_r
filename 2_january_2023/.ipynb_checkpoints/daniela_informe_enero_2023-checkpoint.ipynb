{
 "cells": [
  {
   "cell_type": "markdown",
   "id": "f5a5bbfe",
   "metadata": {
    "slideshow": {
     "slide_type": "slide"
    }
   },
   "source": [
    "<table align=\"left\">\n",
    "  <td>\n",
    "    <a href=\"https://colab.research.google.com/github/marco-canas/cielo/blob/main/informes_actividades_mensuales/2_january_2023/daniela_informe_enero_2023.ipynb\" target=\"_parent\"><img src=\"https://colab.research.google.com/assets/colab-badge.svg\" alt=\"Open In Colab\"/></a>\n",
    "  </td>\n",
    "</table>"
   ]
  },
  {
   "cell_type": "markdown",
   "id": "17afa0bd",
   "metadata": {
    "slideshow": {
     "slide_type": "slide"
    }
   },
   "source": [
    "## Actividades de cualificación como investigador"
   ]
  },
  {
   "cell_type": "markdown",
   "id": "aaed0b40",
   "metadata": {
    "slideshow": {
     "slide_type": "slide"
    }
   },
   "source": []
  },
  {
   "cell_type": "markdown",
   "id": "fdfc5b06",
   "metadata": {
    "slideshow": {
     "slide_type": "slide"
    }
   },
   "source": [
    "## Actividades de divulgación científica (Video articulado al repositorio cielo, apoyo a eventos investigativos, )"
   ]
  },
  {
   "cell_type": "markdown",
   "id": "ebf4133b",
   "metadata": {
    "slideshow": {
     "slide_type": "slide"
    }
   },
   "source": []
  },
  {
   "cell_type": "markdown",
   "id": "29a0ccd9",
   "metadata": {
    "slideshow": {
     "slide_type": "slide"
    }
   },
   "source": [
    "## Actividades de escritura científica"
   ]
  },
  {
   "cell_type": "markdown",
   "id": "96992c14",
   "metadata": {
    "slideshow": {
     "slide_type": "slide"
    }
   },
   "source": [
    "### Párrafo de enero de 2023"
   ]
  },
  {
   "cell_type": "code",
   "execution_count": null,
   "id": "c06adc2d",
   "metadata": {},
   "outputs": [],
   "source": []
  },
  {
   "cell_type": "markdown",
   "id": "5653e2cf",
   "metadata": {},
   "source": [
    "### Párrafo de febrero de 2023"
   ]
  },
  {
   "cell_type": "code",
   "execution_count": null,
   "id": "d0c9e09d",
   "metadata": {},
   "outputs": [],
   "source": []
  },
  {
   "cell_type": "markdown",
   "id": "2a584dfe",
   "metadata": {},
   "source": [
    "### Párrafo de marzo de 2023"
   ]
  },
  {
   "cell_type": "code",
   "execution_count": null,
   "id": "23cc8bca",
   "metadata": {},
   "outputs": [],
   "source": []
  },
  {
   "cell_type": "markdown",
   "id": "353cbb66",
   "metadata": {
    "slideshow": {
     "slide_type": "slide"
    }
   },
   "source": [
    "### Párrafo de abril de 2023"
   ]
  },
  {
   "cell_type": "code",
   "execution_count": null,
   "id": "14f9c247",
   "metadata": {
    "slideshow": {
     "slide_type": "slide"
    }
   },
   "outputs": [],
   "source": []
  },
  {
   "cell_type": "markdown",
   "id": "b791ddab",
   "metadata": {
    "slideshow": {
     "slide_type": "slide"
    }
   },
   "source": [
    "### Párrafo de mayo de 2023"
   ]
  },
  {
   "cell_type": "code",
   "execution_count": null,
   "id": "2cce68f7",
   "metadata": {
    "slideshow": {
     "slide_type": "slide"
    }
   },
   "outputs": [],
   "source": []
  },
  {
   "cell_type": "markdown",
   "id": "1e64ff6d",
   "metadata": {
    "slideshow": {
     "slide_type": "slide"
    }
   },
   "source": [
    "### Párrafo de junio de 2023"
   ]
  },
  {
   "cell_type": "code",
   "execution_count": null,
   "id": "6b87c031",
   "metadata": {},
   "outputs": [],
   "source": []
  },
  {
   "cell_type": "markdown",
   "id": "fb8ec14c",
   "metadata": {},
   "source": [
    "### Párrafo de julio de 2023"
   ]
  },
  {
   "cell_type": "code",
   "execution_count": null,
   "id": "79f4e7e6",
   "metadata": {},
   "outputs": [],
   "source": []
  },
  {
   "cell_type": "markdown",
   "id": "5344adef",
   "metadata": {},
   "source": [
    "### Párrafo de agosto de 2023"
   ]
  },
  {
   "cell_type": "code",
   "execution_count": null,
   "id": "459c7755",
   "metadata": {},
   "outputs": [],
   "source": []
  },
  {
   "cell_type": "markdown",
   "id": "1d604490",
   "metadata": {},
   "source": [
    "### Párrafo de septiembre de 2023"
   ]
  },
  {
   "cell_type": "code",
   "execution_count": null,
   "id": "0c83b6f8",
   "metadata": {},
   "outputs": [],
   "source": []
  }
 ],
 "metadata": {
  "celltoolbar": "Slideshow",
  "kernelspec": {
   "display_name": "Python 3 (ipykernel)",
   "language": "python",
   "name": "python3"
  },
  "language_info": {
   "codemirror_mode": {
    "name": "ipython",
    "version": 3
   },
   "file_extension": ".py",
   "mimetype": "text/x-python",
   "name": "python",
   "nbconvert_exporter": "python",
   "pygments_lexer": "ipython3",
   "version": "3.9.13"
  },
  "rise": {
   "enable_chalkboard": true,
   "theme": "sky"
  }
 },
 "nbformat": 4,
 "nbformat_minor": 5
}
