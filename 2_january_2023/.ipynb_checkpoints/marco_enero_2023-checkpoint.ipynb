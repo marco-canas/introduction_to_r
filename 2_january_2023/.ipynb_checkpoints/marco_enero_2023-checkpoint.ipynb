{
 "cells": [
  {
   "cell_type": "markdown",
   "id": "6055264c",
   "metadata": {
    "slideshow": {
     "slide_type": "slide"
    }
   },
   "source": [
    "<table align=\"left\">\n",
    "  <td>\n",
    "    <a href=\"https://colab.research.google.com/github/marco-canas/cielo/blob/main/informes_actividades_mensuales/2_january_2023/marco_enero_2023.ipynb\" target=\"_parent\"><img src=\"https://colab.research.google.com/assets/colab-badge.svg\" alt=\"Open In Colab\"/></a>\n",
    "  </td>\n",
    "</table>"
   ]
  },
  {
   "cell_type": "markdown",
   "id": "e39981f0",
   "metadata": {
    "slideshow": {
     "slide_type": "slide"
    }
   },
   "source": [
    "## [Video de apoyo a la lectura de este informe]()"
   ]
  },
  {
   "cell_type": "markdown",
   "id": "c572555b",
   "metadata": {
    "slideshow": {
     "slide_type": "slide"
    }
   },
   "source": [
    "# Informe Marco "
   ]
  },
  {
   "cell_type": "markdown",
   "id": "dcf545a7",
   "metadata": {
    "slideshow": {
     "slide_type": "slide"
    }
   },
   "source": [
    "### Actividades de cualificación como investigador"
   ]
  },
  {
   "cell_type": "markdown",
   "id": "4f04ca68",
   "metadata": {
    "slideshow": {
     "slide_type": "slide"
    }
   },
   "source": [
    "Realización clase sobre la media como medida de tendencia central y su cálculo con Python"
   ]
  },
  {
   "cell_type": "markdown",
   "id": "709e7db8",
   "metadata": {
    "slideshow": {
     "slide_type": "slide"
    }
   },
   "source": [
    "## Párrafo de este mes con su reflexión en cuanto al aprendizaje de la ciencia de datos con R o Python y construcción de modelos predictivos para variables meteorológicas"
   ]
  },
  {
   "cell_type": "markdown",
   "id": "9c6913e9",
   "metadata": {
    "slideshow": {
     "slide_type": "slide"
    }
   },
   "source": [
    "# Desarrollo pensamiento computacional "
   ]
  },
  {
   "cell_type": "markdown",
   "id": "370cfa8b",
   "metadata": {
    "slideshow": {
     "slide_type": "slide"
    }
   },
   "source": [
    "Parrafo "
   ]
  },
  {
   "cell_type": "markdown",
   "id": "7d165373",
   "metadata": {
    "slideshow": {
     "slide_type": "slide"
    }
   },
   "source": [
    "Mostraré como en mi experiencia docente el lenguaje python incentiva la competencia de resolver problemas construyendo modelos computacionales. "
   ]
  },
  {
   "cell_type": "markdown",
   "id": "6071f2fe",
   "metadata": {
    "slideshow": {
     "slide_type": "slide"
    }
   },
   "source": [
    "En este mes, me llamó mucho la atención como con la computación podemos resolver preblemas de protección de la comunicación, a lo que llaman criptografía. "
   ]
  },
  {
   "cell_type": "markdown",
   "id": "c0a7dc06",
   "metadata": {
    "slideshow": {
     "slide_type": "slide"
    }
   },
   "source": [
    "También me llamó la atención cómo podemos constituir un modelo de clasificación de plantas con una red neuronal. Y más aún su representación gráfica. "
   ]
  },
  {
   "cell_type": "markdown",
   "id": "14f5523f",
   "metadata": {
    "slideshow": {
     "slide_type": "slide"
    }
   },
   "source": [
    "Veamos el asunto de la protección de la confidencialidad de las comunicaciones: "
   ]
  },
  {
   "cell_type": "markdown",
   "id": "a49d2e37",
   "metadata": {
    "slideshow": {
     "slide_type": "slide"
    }
   },
   "source": [
    "## El método de sustitución simple"
   ]
  },
  {
   "cell_type": "markdown",
   "id": "690edde4",
   "metadata": {
    "slideshow": {
     "slide_type": "slide"
    }
   },
   "source": [
    "Este es un primer método de protección de las comunicaciones que consiste en sustituir cadea letra de un mensaje a proteger por la letra siguiente del alfebeto que le corresponde "
   ]
  },
  {
   "cell_type": "markdown",
   "id": "33b9c924",
   "metadata": {
    "slideshow": {
     "slide_type": "slide"
    }
   },
   "source": [
    "<img src = 'https://github.com/marco-canas/4_didactica_aritmetica/blob/main/classes/1_chapter/fig_1.png?raw=true'>"
   ]
  },
  {
   "cell_type": "markdown",
   "id": "1c405733",
   "metadata": {
    "slideshow": {
     "slide_type": "slide"
    }
   },
   "source": [
    "# Código python de la función que genera dos mapeos o funciones de sustitución para protección de la confidencialidad de las comunicaciones"
   ]
  },
  {
   "cell_type": "code",
   "execution_count": 1,
   "id": "16ad848c",
   "metadata": {
    "slideshow": {
     "slide_type": "slide"
    }
   },
   "outputs": [
    {
     "name": "stdout",
     "output_type": "stream",
     "text": [
      "26\n"
     ]
    }
   ],
   "source": [
    "import string\n",
    "\n",
    "alphabet_size = len(string.ascii_uppercase)\n",
    "print(alphabet_size)"
   ]
  },
  {
   "cell_type": "code",
   "execution_count": 4,
   "id": "d7f3da9a",
   "metadata": {
    "slideshow": {
     "slide_type": "slide"
    }
   },
   "outputs": [],
   "source": [
    "import string # es un módulo para manipular cadenas de caracteres\n",
    " \n",
    "def crear_funciones_de_sustitucion(n = 1):\n",
    "    '''\n",
    "    INPUT: n es la distancia de la sustitución\n",
    "    OUTPUT: salen dos funciones, una de codificación y otra de decodificación. \n",
    "    '''\n",
    "    encoding = {} # diccionario vacio para codificación\n",
    "    decoding = {} # diccionario vacio para codificación\n",
    "    alphabet_size = len(string.ascii_uppercase)\n",
    "    for i in range(alphabet_size):\n",
    "        letter = string.ascii_uppercase[i]\n",
    "        subst_letter = string.ascii_uppercase[(i+n)%alphabet_size]\n",
    "\n",
    "        encoding[letter] = subst_letter\n",
    "        decoding[subst_letter] = letter \n",
    "    return encoding, decoding"
   ]
  },
  {
   "cell_type": "code",
   "execution_count": 5,
   "id": "ecf9de46",
   "metadata": {
    "slideshow": {
     "slide_type": "slide"
    }
   },
   "outputs": [
    {
     "data": {
      "text/plain": [
       "({'A': 'B',\n",
       "  'B': 'C',\n",
       "  'C': 'D',\n",
       "  'D': 'E',\n",
       "  'E': 'F',\n",
       "  'F': 'G',\n",
       "  'G': 'H',\n",
       "  'H': 'I',\n",
       "  'I': 'J',\n",
       "  'J': 'K',\n",
       "  'K': 'L',\n",
       "  'L': 'M',\n",
       "  'M': 'N',\n",
       "  'N': 'O',\n",
       "  'O': 'P',\n",
       "  'P': 'Q',\n",
       "  'Q': 'R',\n",
       "  'R': 'S',\n",
       "  'S': 'T',\n",
       "  'T': 'U',\n",
       "  'U': 'V',\n",
       "  'V': 'W',\n",
       "  'W': 'X',\n",
       "  'X': 'Y',\n",
       "  'Y': 'Z',\n",
       "  'Z': 'A'},\n",
       " {'B': 'A',\n",
       "  'C': 'B',\n",
       "  'D': 'C',\n",
       "  'E': 'D',\n",
       "  'F': 'E',\n",
       "  'G': 'F',\n",
       "  'H': 'G',\n",
       "  'I': 'H',\n",
       "  'J': 'I',\n",
       "  'K': 'J',\n",
       "  'L': 'K',\n",
       "  'M': 'L',\n",
       "  'N': 'M',\n",
       "  'O': 'N',\n",
       "  'P': 'O',\n",
       "  'Q': 'P',\n",
       "  'R': 'Q',\n",
       "  'S': 'R',\n",
       "  'T': 'S',\n",
       "  'U': 'T',\n",
       "  'V': 'U',\n",
       "  'W': 'V',\n",
       "  'X': 'W',\n",
       "  'Y': 'X',\n",
       "  'Z': 'Y',\n",
       "  'A': 'Z'})"
      ]
     },
     "execution_count": 5,
     "metadata": {},
     "output_type": "execute_result"
    }
   ],
   "source": [
    "crear_funciones_de_sustitucion(n = 1)"
   ]
  },
  {
   "cell_type": "markdown",
   "id": "94494dac",
   "metadata": {},
   "source": [
    "## Constituir un detector de setosa y representarlo a través de un diagrama de dispersión y una función lineal"
   ]
  },
  {
   "cell_type": "markdown",
   "id": "9297ffe0",
   "metadata": {
    "slideshow": {
     "slide_type": "slide"
    }
   },
   "source": [
    "## El perceptron como clasificador de datos linealmente separables"
   ]
  },
  {
   "cell_type": "markdown",
   "id": "1b618744",
   "metadata": {
    "slideshow": {
     "slide_type": "slide"
    }
   },
   "source": [
    "Empecemos conteztualizando en la situación problemática. "
   ]
  },
  {
   "cell_type": "markdown",
   "id": "d16874c8",
   "metadata": {
    "slideshow": {
     "slide_type": "slide"
    }
   },
   "source": [
    "Queremos tener un instrumento que nos permita saber cuando una flor de iris es setosa y cuando nó. "
   ]
  },
  {
   "cell_type": "code",
   "execution_count": null,
   "id": "24c96a3f",
   "metadata": {
    "slideshow": {
     "slide_type": "slide"
    }
   },
   "outputs": [],
   "source": []
  },
  {
   "cell_type": "code",
   "execution_count": null,
   "id": "45479bb7",
   "metadata": {
    "slideshow": {
     "slide_type": "slide"
    }
   },
   "outputs": [],
   "source": []
  },
  {
   "cell_type": "code",
   "execution_count": null,
   "id": "59b09f7c",
   "metadata": {
    "slideshow": {
     "slide_type": "slide"
    }
   },
   "outputs": [],
   "source": []
  },
  {
   "cell_type": "markdown",
   "id": "c47e4256",
   "metadata": {
    "slideshow": {
     "slide_type": "slide"
    }
   },
   "source": [
    "## Referentes  \n",
    "\n"
   ]
  },
  {
   "cell_type": "markdown",
   "id": "24959f36",
   "metadata": {
    "slideshow": {
     "slide_type": "slide"
    }
   },
   "source": [
    "* Nielson, Seth James. Practical Cryptography in Python"
   ]
  },
  {
   "cell_type": "code",
   "execution_count": null,
   "id": "32064178",
   "metadata": {},
   "outputs": [],
   "source": []
  }
 ],
 "metadata": {
  "celltoolbar": "Slideshow",
  "kernelspec": {
   "display_name": "Python 3 (ipykernel)",
   "language": "python",
   "name": "python3"
  },
  "language_info": {
   "codemirror_mode": {
    "name": "ipython",
    "version": 3
   },
   "file_extension": ".py",
   "mimetype": "text/x-python",
   "name": "python",
   "nbconvert_exporter": "python",
   "pygments_lexer": "ipython3",
   "version": "3.9.13"
  },
  "rise": {
   "enable_chalkboard": true,
   "theme": "sky"
  }
 },
 "nbformat": 4,
 "nbformat_minor": 5
}
