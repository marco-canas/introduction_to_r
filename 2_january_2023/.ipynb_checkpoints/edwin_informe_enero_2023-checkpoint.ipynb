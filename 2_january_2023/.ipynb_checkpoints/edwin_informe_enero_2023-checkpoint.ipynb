{
 "cells": [
  {
   "cell_type": "markdown",
   "id": "675e8a47",
   "metadata": {
    "slideshow": {
     "slide_type": "slide"
    }
   },
   "source": [
    "<table align=\"left\">\n",
    "  <td>\n",
    "    <a href=\"https://colab.research.google.com/github/marco-canas/cielo/blob/main/informes_actividades_mensuales/2_january_2023/edwin_informe_enero_2023.ipynb\" target=\"_parent\"><img src=\"https://colab.research.google.com/assets/colab-badge.svg\" alt=\"Open In Colab\"/></a>\n",
    "  </td>\n",
    "</table>"
   ]
  },
  {
   "cell_type": "markdown",
   "id": "7160c1a5",
   "metadata": {
    "slideshow": {
     "slide_type": "slide"
    }
   },
   "source": [
    "## Actividades de cualificación como investigador"
   ]
  },
  {
   "cell_type": "markdown",
   "id": "c89c4197",
   "metadata": {
    "slideshow": {
     "slide_type": "slide"
    }
   },
   "source": []
  },
  {
   "cell_type": "markdown",
   "id": "5e3c1cc2",
   "metadata": {
    "slideshow": {
     "slide_type": "slide"
    }
   },
   "source": [
    "## Actividades de divulgación científica (Video articulado al repositorio cielo, apoyo a eventos investigativos, )"
   ]
  },
  {
   "cell_type": "markdown",
   "id": "6087cfc9",
   "metadata": {
    "slideshow": {
     "slide_type": "slide"
    }
   },
   "source": []
  },
  {
   "cell_type": "markdown",
   "id": "55ac1a42",
   "metadata": {
    "slideshow": {
     "slide_type": "slide"
    }
   },
   "source": [
    "## Actividades de escritura científica"
   ]
  },
  {
   "cell_type": "markdown",
   "id": "785bfb23",
   "metadata": {
    "slideshow": {
     "slide_type": "slide"
    }
   },
   "source": [
    "### Párrafo de enero de 2023"
   ]
  },
  {
   "cell_type": "code",
   "execution_count": null,
   "id": "432997b7",
   "metadata": {},
   "outputs": [],
   "source": []
  },
  {
   "cell_type": "markdown",
   "id": "21a01f3d",
   "metadata": {},
   "source": [
    "### Párrafo de febrero de 2023"
   ]
  },
  {
   "cell_type": "code",
   "execution_count": null,
   "id": "f720f29f",
   "metadata": {},
   "outputs": [],
   "source": []
  },
  {
   "cell_type": "markdown",
   "id": "9bb7d0d5",
   "metadata": {},
   "source": [
    "### Párrafo de marzo de 2023"
   ]
  },
  {
   "cell_type": "code",
   "execution_count": null,
   "id": "7e2e4c64",
   "metadata": {},
   "outputs": [],
   "source": []
  },
  {
   "cell_type": "markdown",
   "id": "9afc637a",
   "metadata": {
    "slideshow": {
     "slide_type": "slide"
    }
   },
   "source": [
    "### Párrafo de abril de 2023"
   ]
  },
  {
   "cell_type": "code",
   "execution_count": null,
   "id": "25359e74",
   "metadata": {
    "slideshow": {
     "slide_type": "slide"
    }
   },
   "outputs": [],
   "source": []
  },
  {
   "cell_type": "markdown",
   "id": "05d31c56",
   "metadata": {
    "slideshow": {
     "slide_type": "slide"
    }
   },
   "source": [
    "### Párrafo de mayo de 2023"
   ]
  },
  {
   "cell_type": "code",
   "execution_count": null,
   "id": "7c26f747",
   "metadata": {
    "slideshow": {
     "slide_type": "slide"
    }
   },
   "outputs": [],
   "source": []
  },
  {
   "cell_type": "markdown",
   "id": "3cb3fd7f",
   "metadata": {
    "slideshow": {
     "slide_type": "slide"
    }
   },
   "source": [
    "### Párrafo de junio de 2023"
   ]
  },
  {
   "cell_type": "code",
   "execution_count": null,
   "id": "c4d00913",
   "metadata": {},
   "outputs": [],
   "source": []
  },
  {
   "cell_type": "markdown",
   "id": "f5a9049a",
   "metadata": {},
   "source": [
    "### Párrafo de julio de 2023"
   ]
  },
  {
   "cell_type": "code",
   "execution_count": null,
   "id": "bf1b9cda",
   "metadata": {},
   "outputs": [],
   "source": []
  },
  {
   "cell_type": "markdown",
   "id": "2bcdec03",
   "metadata": {},
   "source": [
    "### Párrafo de agosto de 2023"
   ]
  },
  {
   "cell_type": "code",
   "execution_count": null,
   "id": "48b91d7d",
   "metadata": {},
   "outputs": [],
   "source": []
  },
  {
   "cell_type": "markdown",
   "id": "0d4b2e41",
   "metadata": {},
   "source": [
    "### Párrafo de septiembre de 2023"
   ]
  },
  {
   "cell_type": "code",
   "execution_count": null,
   "id": "6f03335f",
   "metadata": {},
   "outputs": [],
   "source": []
  }
 ],
 "metadata": {
  "celltoolbar": "Slideshow",
  "kernelspec": {
   "display_name": "Python 3 (ipykernel)",
   "language": "python",
   "name": "python3"
  },
  "language_info": {
   "codemirror_mode": {
    "name": "ipython",
    "version": 3
   },
   "file_extension": ".py",
   "mimetype": "text/x-python",
   "name": "python",
   "nbconvert_exporter": "python",
   "pygments_lexer": "ipython3",
   "version": "3.9.13"
  },
  "rise": {
   "enable_chalkboard": true,
   "theme": "sky"
  }
 },
 "nbformat": 4,
 "nbformat_minor": 5
}
