{
 "cells": [
  {
   "cell_type": "markdown",
   "metadata": {},
   "source": []
  },
  {
   "cell_type": "markdown",
   "metadata": {},
   "source": []
  },
  {
   "cell_type": "markdown",
   "metadata": {},
   "source": [
    "# Rubrica para las tareas mensuales  Para los jovenes investigadores del proyecto investigativo Antioquia Mira su Cielo. \n",
    "\n",
    "\n"
   ]
  },
  {
   "cell_type": "markdown",
   "metadata": {},
   "source": [
    "Buenas tardes apreciados jóvenes investigadores. Le pido, que cada miércoles nos reunamos luego del seminario en machine learning para acordar tareas mensuales para servir al proyecto antioquia mira su cielo. Les propongo que las tareas o certificaciones de las mismas, las presentemos para el visto bueno a una de las coordinadoras de grupo o a mí, antes de cada reporte. Es decir, antes de cada 20 de cada mes. Para el próximo reporte, les propongo entregar los informes de cada mes con el visto bueno de una de las coordinadoras  o de mi. \n",
    "Dios los bendiga. Les agradezco mucho por el gran desempeño y trabajo en equipo que realizaron en estas jornadas de investigación. También el visto bueno de cada mes lo pueden solicitar al investigador principal Esteban, o a Luz Mariela, o a María Isabel, o a la profesora Yasmira o a mí. Lo importante, es que el informe mensual con las tareas acordes de aquí en adelante, repose escaneado en el drive destinado a cada joven investigador. \n",
    "Dios los bendiga. Y les reitero el agradecimiento por el gran servicio que han prestado a la universidad y este valioso proyecto investigativo. \n",
    "\n",
    "Les propongo reunirnos semanalmente media hora. Les dejare las grabaciones, para cuando no puedan asistir, para que puedan realizar las tareas a entregar mensualmente. Dios los bendiga. \n",
    "\n",
    "Primera reunión programada para el miércoles 25 de octubre de 2023. \n",
    "\n"
   ]
  },
  {
   "cell_type": "code",
   "execution_count": null,
   "metadata": {},
   "outputs": [],
   "source": []
  },
  {
   "cell_type": "code",
   "execution_count": null,
   "metadata": {},
   "outputs": [],
   "source": []
  },
  {
   "cell_type": "code",
   "execution_count": null,
   "metadata": {},
   "outputs": [],
   "source": []
  },
  {
   "cell_type": "code",
   "execution_count": null,
   "metadata": {},
   "outputs": [],
   "source": []
  },
  {
   "cell_type": "code",
   "execution_count": null,
   "metadata": {},
   "outputs": [],
   "source": []
  },
  {
   "cell_type": "code",
   "execution_count": null,
   "metadata": {},
   "outputs": [],
   "source": []
  },
  {
   "cell_type": "code",
   "execution_count": null,
   "metadata": {},
   "outputs": [],
   "source": []
  }
 ],
 "metadata": {
  "language_info": {
   "name": "python"
  }
 },
 "nbformat": 4,
 "nbformat_minor": 2
}
